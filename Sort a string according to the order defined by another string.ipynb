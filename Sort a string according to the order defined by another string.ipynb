{
 "cells": [
  {
   "cell_type": "code",
   "execution_count": 26,
   "metadata": {},
   "outputs": [
    {
     "name": "stdout",
     "output_type": "stream",
     "text": [
      "bbbcccccamq\n"
     ]
    }
   ],
   "source": [
    "'''\n",
    "Facebook interview: Sort a string according to the order defined by another string\n",
    "Given a pattern, sort a given string based on the pattern\n",
    "'''\n",
    "\n",
    "# brute-force sorting\n",
    "pattern = 'bcamq'\n",
    "string = 'cdmnopgfcdpqbbacefgfdcbc'\n",
    "\n",
    "def sortByPat(string, pattern):\n",
    "    res = ''\n",
    "    for i in range(len(pattern)):\n",
    "        for j in range((len(string))):\n",
    "            if(string[j] == pattern[i]):\n",
    "                res += pattern[i]\n",
    "    return res\n",
    "print (sortByPat(string, pattern))"
   ]
  },
  {
   "cell_type": "code",
   "execution_count": 17,
   "metadata": {},
   "outputs": [
    {
     "data": {
      "text/plain": [
       "('a', 97)"
      ]
     },
     "execution_count": 17,
     "metadata": {},
     "output_type": "execute_result"
    }
   ],
   "source": [
    "#convert a integer to a character and vi\n",
    "chr(97), ord('a')"
   ]
  },
  {
   "cell_type": "code",
   "execution_count": 24,
   "metadata": {},
   "outputs": [
    {
     "name": "stdout",
     "output_type": "stream",
     "text": [
      "24 24 bbbcccccamq bbbcccccamqdddefffggnopp\n"
     ]
    }
   ],
   "source": [
    "#optimization, time complexity has been reduced from O(m*n) to O(m+n)\n",
    "import numpy as np\n",
    "\n",
    "# if the character in a given string is ASCII charaters, not Unicode (2**21)\n",
    "MAX_CHA = 26\n",
    "\n",
    "pattern = 'bcamq'\n",
    "string = 'cdmnopgfcdpqbbacefgfdcbc'\n",
    "\n",
    "def sortByPat(str1, pat):\n",
    "    arr = np.zeros(MAX_CHA)\n",
    "    for i in range(len(str1)):\n",
    "        arr[ord(str1[i]) - ord('a')] += 1\n",
    "        \n",
    "    out = ''\n",
    "    for i in range(len(pat)):\n",
    "        cnt = ord(pat[i]) - ord('a')\n",
    "        while(0 != arr[cnt]):\n",
    "            out += pat[i]\n",
    "            arr[cnt] -= 1\n",
    "    outd = out\n",
    "    for i in range(MAX_CHA):\n",
    "        while(0 != arr[i]):\n",
    "            outd += chr(ord('a') + i)\n",
    "            arr[i] -= 1\n",
    "    return out, outd\n",
    "\n",
    "res, resd = sortByPat(string, pattern)\n",
    "print (len(string), len(resd), res, resd)"
   ]
  }
 ],
 "metadata": {
  "kernelspec": {
   "display_name": "Python 3",
   "language": "python",
   "name": "python3"
  },
  "language_info": {
   "codemirror_mode": {
    "name": "ipython",
    "version": 3
   },
   "file_extension": ".py",
   "mimetype": "text/x-python",
   "name": "python",
   "nbconvert_exporter": "python",
   "pygments_lexer": "ipython3",
   "version": "3.6.3"
  }
 },
 "nbformat": 4,
 "nbformat_minor": 2
}
