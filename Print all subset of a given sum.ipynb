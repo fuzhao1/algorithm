{
 "cells": [
  {
   "cell_type": "code",
   "execution_count": 7,
   "metadata": {},
   "outputs": [
    {
     "name": "stdout",
     "output_type": "stream",
     "text": [
      "True\n"
     ]
    }
   ],
   "source": [
    "'''\n",
    "Subset Sum Problem\n",
    "Given a set of non-negative integers, and a value sum, determine if there is a subset of the given set with sum equal \n",
    "to given sum.\n",
    "Example:\n",
    "Input:  set[] = {3, 34, 4, 12, 5, 2}, sum = 9\n",
    "Output:  True  //There is a subset (4, 5) with sum 9.\n",
    "'''\n",
    "\n",
    "arr = np.array([3, 34, 4, 12, 5, 7, 6, 9, 2])\n",
    "s = 25\n",
    "\n",
    "def findSubsetSum(arr, n, s):\n",
    "    if(0 == s):\n",
    "        return True\n",
    "    if((0 == n) & (0 !=s)):\n",
    "        return False\n",
    "    if(arr[n-1] > s):\n",
    "        return findSubsetSum(arr, n-1, s)\n",
    "    return (findSubsetSum(arr, n-1, s-arr[n-1]) | findSubsetSum(arr, n-1, s))\n",
    "\n",
    "print (findSubsetSum(arr, arr.size, s))"
   ]
  },
  {
   "cell_type": "code",
   "execution_count": 8,
   "metadata": {},
   "outputs": [
    {
     "name": "stdout",
     "output_type": "stream",
     "text": [
      "[[1 0 0 1 0 0 0 0 0 0 0 0]\n",
      " [1 0 0 1 0 0 1 0 0 1 0 0]\n",
      " [1 0 0 1 0 0 1 0 0 1 0 0]\n",
      " [1 0 1 1 0 1 1 0 1 1 0 1]\n",
      " [1 0 1 1 0 1 1 1 1 1 1 1]]\n",
      "[2, 6, 3]\n",
      "[2, 9]\n",
      "[5, 6]\n",
      "None\n"
     ]
    }
   ],
   "source": [
    "'''\n",
    "Print all subset of a given sum\n",
    "'''\n",
    "arr = np.array([3, 6, 9, 2, 5])\n",
    "\n",
    "def printElement(arr, n, s, lable, list1):\n",
    "    if((0 == n) & (0 == s)):\n",
    "        print(list1)\n",
    "        return\n",
    "    \n",
    "    if((0 == n) & (s == arr[0])):\n",
    "        list1.append(arr[0])\n",
    "        print(list1)\n",
    "        return\n",
    "    \n",
    "    #Without current element\n",
    "    if(lable[n-1][s]):\n",
    "        list2 = list1.copy()\n",
    "        printElement(arr, n-1, s, lable, list2)\n",
    "    \n",
    "    #consider current element\n",
    "    if((s >= arr[n]) & lable[n-1][s-arr[n]]):\n",
    "        list1.append(arr[n])\n",
    "        printElement(arr, n-1, s-arr[n], lable, list1)\n",
    "    \n",
    "    \n",
    "def printSum(arr, n, s):\n",
    "    if((s < 0) | (0 == n)):\n",
    "        return\n",
    "    lable = np.zeros((n, s+1), dtype=np.int8)\n",
    "    \n",
    "    #lable the first element\n",
    "    lable[0][arr[0]] = 1\n",
    "    \n",
    "    #sum 0 can be found with no element\n",
    "    for i in range(n):\n",
    "        lable[i][0] = 1\n",
    "        \n",
    "    #create a lable matrix\n",
    "    for i in range(1,n):\n",
    "        for j in range((s+1)):\n",
    "            lable[i][j] = (lable[i-1][j] | lable[i-1][j-arr[i]]) if(arr[i] <= j) else lable[i-1][j]\n",
    "    print (lable)\n",
    "    \n",
    "    if(0 == lable[n-1][s]):                                       \n",
    "        print ('Not exisit!')\n",
    "        return\n",
    "    \n",
    "    l = []\n",
    "    printElement(arr, arr.size - 1, s, lable, l)\n",
    "    \n",
    "print (printSum(arr, arr.size, 11))"
   ]
  },
  {
   "cell_type": "code",
   "execution_count": null,
   "metadata": {
    "collapsed": true
   },
   "outputs": [],
   "source": []
  }
 ],
 "metadata": {
  "kernelspec": {
   "display_name": "Python 3",
   "language": "python",
   "name": "python3"
  },
  "language_info": {
   "codemirror_mode": {
    "name": "ipython",
    "version": 3
   },
   "file_extension": ".py",
   "mimetype": "text/x-python",
   "name": "python",
   "nbconvert_exporter": "python",
   "pygments_lexer": "ipython3",
   "version": "3.6.3"
  }
 },
 "nbformat": 4,
 "nbformat_minor": 2
}
